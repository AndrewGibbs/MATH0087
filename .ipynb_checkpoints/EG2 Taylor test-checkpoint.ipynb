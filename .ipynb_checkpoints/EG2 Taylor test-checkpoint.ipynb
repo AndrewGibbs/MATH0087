{
 "cells": [
  {
   "cell_type": "markdown",
   "metadata": {},
   "source": [
    "## Testing our asymptotic approximations\n",
    "Recall the integral\n",
    "$$I(x)=\\int_0^x \\frac{\\sin(x)}{x} dx,\\quad x\\to0.$$\n",
    "In lectures we derived an approximation\n",
    "$$I(x) = x - \\frac{x^3}{18} + \\frac{x^5}{600} + O(x^7),\\quad x\\to0.$$\n",
    "\n",
    "This example tests how well this works in practice. \n",
    "\n",
    "First we can code up three functions $\\alpha_1,\\alpha_2$ and $\\alpha_3$, corresponding to the one, two and three term approximations respectively."
   ]
  },
  {
   "cell_type": "code",
   "execution_count": null,
   "metadata": {},
   "outputs": [],
   "source": [
    "α₁(x) = x                    # + O(x^3)\n",
    "α₂(x) = x - x^3/18           # + O(x^5)\n",
    "α₃(x) = x - x^3/18 + x^5/600 # + O(x^7)"
   ]
  },
  {
   "cell_type": "markdown",
   "metadata": {},
   "source": [
    "Now define a high order quadrature approximation to $I(x)$, which we can compare our approximations $\\alpha_n$ for $n\\in\\{1,2,3\\}$ against:"
   ]
  },
  {
   "cell_type": "code",
   "execution_count": null,
   "metadata": {},
   "outputs": [],
   "source": [
    "using QuadGK\n",
    "function I(x)\n",
    "    f(t) = sin.(t)./t\n",
    "    if x == 0 #have to account for special case to avoid division by zero\n",
    "        I_ = [0.0]\n",
    "    else\n",
    "        I_ = quadgk(f,0.0,x)\n",
    "    end\n",
    "    return I_[1] #second argument is error estimate\n",
    "end"
   ]
  },
  {
   "cell_type": "markdown",
   "metadata": {},
   "source": [
    "Now define the relative error:\n",
    "$$\\epsilon_n := \\left|\\frac{I(x)-\\alpha_n(x)}{I(x)}\\right|,\\quad\\text{for }n\\in\\{1,2,3\\}.$$"
   ]
  },
  {
   "cell_type": "code",
   "execution_count": null,
   "metadata": {},
   "outputs": [],
   "source": [
    "ϵ₁(x) = abs.(I.(x) - α₁.(x))./abs.(I.(x))\n",
    "ϵ₂(x) = abs.(I.(x) - α₂.(x))./abs.(I.(x))\n",
    "ϵ₃(x) = abs.(I.(x) - α₃.(x))./abs.(I.(x))"
   ]
  },
  {
   "cell_type": "markdown",
   "metadata": {},
   "source": [
    "Now plot the error for a range of decreasing $x$"
   ]
  },
  {
   "cell_type": "code",
   "execution_count": null,
   "metadata": {},
   "outputs": [],
   "source": [
    "using Plots\n",
    "X = range(0.01,0.3,length=100)\n",
    "#X = 10 .^(range(-1.5,0,length=50))\n",
    "plot(X,[ϵ₁(X) ϵ₂(X) ϵ₃(X)],yaxis=:log,xaxis=:log,legend=:bottomright,\n",
    "    xlabel='x', ylabel=\"Rel. Err.\",label = [\"One term\" \"Two terms\" \"Three terms\"])\n"
   ]
  },
  {
   "cell_type": "code",
   "execution_count": null,
   "metadata": {},
   "outputs": [],
   "source": []
  }
 ],
 "metadata": {
  "kernelspec": {
   "display_name": "Julia 1.3.0",
   "language": "julia",
   "name": "julia-1.3"
  },
  "language_info": {
   "file_extension": ".jl",
   "mimetype": "application/julia",
   "name": "julia",
   "version": "1.3.0"
  }
 },
 "nbformat": 4,
 "nbformat_minor": 4
}
