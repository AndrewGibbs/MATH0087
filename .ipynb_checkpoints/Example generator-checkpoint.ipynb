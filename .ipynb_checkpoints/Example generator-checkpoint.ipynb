{
 "cells": [
  {
   "cell_type": "markdown",
   "metadata": {},
   "source": [
    "## MATH0087 random example generator\n",
    "Following your requests for more examples, I've made some code which will produce a random example for **Laplace's method**, or the **method of stationary phase**. I advise you work through these from first principles, but take note of any results from lecture notes which can be directly applied.\n",
    "\n",
    "Rather than compiling an entire LaTeX document, it's quicker to paste the output into [this website.](https://quicklatex.com)\n",
    "\n",
    "You can check your results in Mathematica, [click here for more info.](https://reference.wolfram.com/language/ref/AsymptoticIntegrate.html) If you don't have a license, [Wolfram alpha](https://www.wolframalpha.com) might be able to help.\n",
    "\n",
    "Choose your difficulty `level` $\\in\\{1,2,3\\}$, and run the cell below:"
   ]
  },
  {
   "cell_type": "code",
   "execution_count": 106,
   "metadata": {},
   "outputs": [
    {
     "name": "stderr",
     "output_type": "stream",
     "text": [
      "WARNING: replacing module randEG.\n"
     ]
    }
   ],
   "source": [
    "level = 2\n",
    "include(\"randEG.jl\");"
   ]
  },
  {
   "cell_type": "markdown",
   "metadata": {},
   "source": [
    "## The following creates a Laplace example:\n",
    "(Run the cell below to get a new problem)"
   ]
  },
  {
   "cell_type": "code",
   "execution_count": 100,
   "metadata": {},
   "outputs": [
    {
     "name": "stdout",
     "output_type": "stream",
     "text": [
      "\\text{Compute the leading orde term in the asymptotic expansion of} \n",
      "\n",
      "                    I(x)=\\int_0^1(t^2 + 1)\\exp(\\frac{1}{\\sqrt{1+t}}x)dt,\\quad x\\to\\infty"
     ]
    }
   ],
   "source": [
    "print(randEG.Laplace(level))"
   ]
  },
  {
   "cell_type": "markdown",
   "metadata": {},
   "source": [
    "## The following creates a Stationary phase example:\n",
    "(Run the cell below to get a new problem)"
   ]
  },
  {
   "cell_type": "code",
   "execution_count": 102,
   "metadata": {},
   "outputs": [
    {
     "name": "stdout",
     "output_type": "stream",
     "text": [
      "\\text{Compute the leading orde term in the asymptotic expansion of} \n",
      "\n",
      "                    I(x)=\\int_0^1t^{1/2}\\exp(i\\sin(t\\pi/4)x)dt,\\quad x\\to\\infty"
     ]
    }
   ],
   "source": [
    "print(randEG.StationaryPhase(level))"
   ]
  },
  {
   "cell_type": "markdown",
   "metadata": {},
   "source": [
    "## The following creates an example from either class of problem, you'll have to decide which method is appropriate:\n",
    "(Run the cell below to get a new problem)"
   ]
  },
  {
   "cell_type": "code",
   "execution_count": 107,
   "metadata": {},
   "outputs": [
    {
     "name": "stdout",
     "output_type": "stream",
     "text": [
      "\\text{Compute the leading orde term in the asymptotic expansion of} \n",
      "\n",
      "                    I(x)=\\int_0^1\\frac{1}{1+t}\\exp(\\cos(t\\pi/2)x)dt,\\quad x\\to\\infty"
     ]
    }
   ],
   "source": [
    "print(randEG.random(level))"
   ]
  },
  {
   "cell_type": "code",
   "execution_count": null,
   "metadata": {},
   "outputs": [],
   "source": []
  }
 ],
 "metadata": {
  "kernelspec": {
   "display_name": "Julia 1.3.0",
   "language": "julia",
   "name": "julia-1.3"
  },
  "language_info": {
   "file_extension": ".jl",
   "mimetype": "application/julia",
   "name": "julia",
   "version": "1.3.0"
  }
 },
 "nbformat": 4,
 "nbformat_minor": 4
}
