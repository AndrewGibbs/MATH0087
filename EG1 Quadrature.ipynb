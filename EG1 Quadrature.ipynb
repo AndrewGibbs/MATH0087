{
 "cells": [
  {
   "cell_type": "markdown",
   "metadata": {},
   "source": [
    "A quick example demonstrating how standard quadrature-based approximation of the integral\n",
    "$$ I(x) = \\int_0^1 t^{5/3}\\sin(tx) dx$$\n",
    "behaves poorly as $x\\to\\infty$.\n",
    "\n",
    "$$I(x)\\approx Q(x):=\\sum_{n=1}^N t_i^{5/3}\\sin(t_ix)$$"
   ]
  },
  {
   "cell_type": "code",
   "execution_count": 29,
   "metadata": {},
   "outputs": [
    {
     "data": {
      "text/plain": [
       "Q (generic function with 1 method)"
      ]
     },
     "execution_count": 29,
     "metadata": {},
     "output_type": "execute_result"
    }
   ],
   "source": [
    "using QuadGK #library of quadrature rules\n",
    "function Q(x)\n",
    "    f(t) = t.^(5/3).*sin.(t*x)\n",
    "    I_ = quadgk(f,0,1,rtol=1e-8)\n",
    "    return I_[1]\n",
    "end"
   ]
  },
  {
   "cell_type": "code",
   "execution_count": 37,
   "metadata": {},
   "outputs": [
    {
     "name": "stdout",
     "output_type": "stream",
     "text": [
      "  0.140844 seconds (1.23 M allocations: 25.595 MiB)\n"
     ]
    },
    {
     "data": {
      "text/plain": [
       "9.993613970940436e-6"
      ]
     },
     "execution_count": 37,
     "metadata": {},
     "output_type": "execute_result"
    }
   ],
   "source": [
    "x = 100000\n",
    "@time Q(x)"
   ]
  },
  {
   "cell_type": "code",
   "execution_count": null,
   "metadata": {},
   "outputs": [],
   "source": []
  },
  {
   "cell_type": "code",
   "execution_count": null,
   "metadata": {},
   "outputs": [],
   "source": []
  }
 ],
 "metadata": {
  "kernelspec": {
   "display_name": "Julia 1.3.0",
   "language": "julia",
   "name": "julia-1.3"
  },
  "language_info": {
   "file_extension": ".jl",
   "mimetype": "application/julia",
   "name": "julia",
   "version": "1.3.0"
  }
 },
 "nbformat": 4,
 "nbformat_minor": 4
}
